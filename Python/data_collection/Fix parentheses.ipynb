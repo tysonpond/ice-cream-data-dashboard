{
 "cells": [
  {
   "cell_type": "code",
   "execution_count": 2,
   "metadata": {},
   "outputs": [],
   "source": [
    "import pandas as pd\n",
    "import numpy as np\n",
    "from collections import Counter\n",
    "import time\n",
    "\n",
    "prod = pd.read_csv(\"ice-cream-dataset-v2/combined/products.csv\")"
   ]
  },
  {
   "cell_type": "code",
   "execution_count": 16,
   "metadata": {},
   "outputs": [
    {
     "name": "stdout",
     "output_type": "stream",
     "text": [
      "WHITE CHOCOLATE ICE CREAM (CREAM, SKIM MILK, SUGAR, CORN SYRUP, EGG YOLKS, NATURAL FLAVOR, COCOA BUTTER), PEPPERMINT BARK PIECES (SUGAR, COCONUT OIL, COCOA PROCESSED WITH ALKALI, NONFAT DRY MILK, BUTTERFAT, COCOA, SOY LECITHIN, NATURAL FLAVOR, SALT, CORN SYRUP, VEGETABLE JUICE (FOR COLOR), PEPPERMINT OIL), PEPPERMINT TWISTS CANDY (SUGAR, CORN SYRUP, PALM KERNEL OIL, VEGETABLE JUICE (FOR COLOR), PEPPERMINT OIL, SOY LECITHIN)\n",
      "43_hd\n",
      "WHITE CHOCOLATE ICE CREAM (CREAM, SKIM MILK, SUGAR, CORN SYRUP, EGG YOLKS, NATURAL FLAVOR, COCOA BUTTER), PEPPERMINT BARK PIECES (SUGAR, COCONUT OIL, COCOA PROCESSED WITH ALKALI, NONFAT DRY MILK, BUTTERFAT, COCOA, SOY LECITHIN, NATURAL FLAVOR, SALT, CORN SYRUP, VEGETABLE JUICE (FOR COLOR), PEPPERMINT OIL), PEPPERMINT TWISTS CANDY (SUGAR, CORN SYRUP, PALM KERNEL OIL, VEGETABLE JUICE (FOR COLOR), PEPPERMINT OIL, SOY LECITHIN)\n",
      "43_hd\n"
     ]
    }
   ],
   "source": [
    "# nested parentheses\n",
    "for j,ingreds in enumerate(prod[\"ingredients\"]):\n",
    "    inside = 0\n",
    "    for i,char in enumerate(ingreds):\n",
    "        if char == \"(\":\n",
    "            inside += 1\n",
    "        if char == \")\":\n",
    "            inside -= 1\n",
    "        if inside > 0 and ingreds[i+1] == \"(\":\n",
    "            print(ingreds)\n",
    "            print(prod.loc[j, \"key\"])\n",
    "            time.sleep(3)"
   ]
  },
  {
   "cell_type": "code",
   "execution_count": 15,
   "metadata": {},
   "outputs": [
    {
     "name": "stdout",
     "output_type": "stream",
     "text": [
      "ORGANIC SKIM MILK, ORGANIC CANE SUGAR, ORGANIC CREAM, ORGANIC MILK, ORGANIC BUTTER (CREAM, SALT). ORGANIC GLUCOSE SYRUP, ORGANIC EGG YOLKS, ORGANIC DEXTROSE, ORGANIC CARAMELIZED SUGAR (ORGANIC CANE SUGAR, WATER), BAKING SODA, PECTIN, ORGANIC CAROB BEAN GUM, ORGANIC VANILLA EXTRACT, SEA SALT\n",
      "27_talenti\n"
     ]
    }
   ],
   "source": [
    "# parentheses \")\" followed by non-comma (i.e. more text)\n",
    "for j,ingreds in enumerate(prod[\"ingredients\"]):\n",
    "    for i,char in enumerate(ingreds):\n",
    "        if char == \")\" and i < len(ingreds)-1 and ingreds[i+1] != \",\":\n",
    "            print(ingreds)\n",
    "            print(prod.loc[j, \"key\"])\n",
    "            time.sleep(3)\n",
    "            \n",
    "            "
   ]
  },
  {
   "cell_type": "code",
   "execution_count": null,
   "metadata": {},
   "outputs": [],
   "source": []
  }
 ],
 "metadata": {
  "kernelspec": {
   "display_name": "Python 3",
   "language": "python",
   "name": "python3"
  },
  "language_info": {
   "codemirror_mode": {
    "name": "ipython",
    "version": 3
   },
   "file_extension": ".py",
   "mimetype": "text/x-python",
   "name": "python",
   "nbconvert_exporter": "python",
   "pygments_lexer": "ipython3",
   "version": "3.7.6"
  }
 },
 "nbformat": 4,
 "nbformat_minor": 4
}
